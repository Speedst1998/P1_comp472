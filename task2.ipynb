{
 "cells": [
  {
   "cell_type": "code",
   "execution_count": 1,
   "id": "bef5119a",
   "metadata": {},
   "outputs": [
    {
     "name": "stdout",
     "output_type": "stream",
     "text": [
      "     Age Sex      BP Cholesterol  Na_to_K   Drug\n",
      "0     23   F    HIGH        HIGH   25.355  drugY\n",
      "1     47   M     LOW        HIGH   13.093  drugC\n",
      "2     47   M     LOW        HIGH   10.114  drugC\n",
      "3     28   F  NORMAL        HIGH    7.798  drugX\n",
      "4     61   F     LOW        HIGH   18.043  drugY\n",
      "..   ...  ..     ...         ...      ...    ...\n",
      "195   56   F     LOW        HIGH   11.567  drugC\n",
      "196   16   M     LOW        HIGH   12.006  drugC\n",
      "197   52   M  NORMAL        HIGH    9.894  drugX\n",
      "198   23   M  NORMAL      NORMAL   14.020  drugX\n",
      "199   40   F     LOW      NORMAL   11.349  drugX\n",
      "\n",
      "[200 rows x 6 columns]\n",
      "     Age  Sex  BP  Cholesterol  Na_to_K  Drug\n",
      "0     23    0   0            0   25.355     4\n",
      "1     47    1   1            0   13.093     2\n",
      "2     47    1   1            0   10.114     2\n",
      "3     28    0   2            0    7.798     3\n",
      "4     61    0   1            0   18.043     4\n",
      "..   ...  ...  ..          ...      ...   ...\n",
      "195   56    0   1            0   11.567     2\n",
      "196   16    1   1            0   12.006     2\n",
      "197   52    1   2            0    9.894     3\n",
      "198   23    1   2            1   14.020     3\n",
      "199   40    0   1            1   11.349     3\n",
      "\n",
      "[200 rows x 6 columns]\n"
     ]
    },
    {
     "data": {
      "image/png": "[encoded data removed]",
      "text/plain": [
       "<Figure size 432x288 with 1 Axes>"
      ]
     },
     "metadata": {
      "needs_background": "light"
     },
     "output_type": "display_data"
    }
   ],
   "source": [
    "import pandas\n",
    "import os\n",
    "import numpy as np\n",
    "import matplotlib.pyplot as plt\n",
    "from sklearn.model_selection import train_test_split\n",
    "from sklearn import preprocessing\n",
    "\n",
    "\n",
    "drugs = pandas.read_csv(os.getcwd()+'/drug200.csv')\n",
    "\n",
    "d = dict(drugs['Drug'].value_counts())\n",
    "\n",
    "plt.bar(drugs['Drug'].unique(),d.values())\n",
    "plt.xlabel(\"Drugs\")\n",
    "plt.ylabel(\"Count\")\n",
    "plt.title(\"Class instances\")\n",
    "\n",
    "print(drugs)\n",
    "\n",
    "labelEncoder = preprocessing.LabelEncoder();\n",
    "drugs[\"Drug\"] = labelEncoder.fit_transform(drugs[\"Drug\"])\n",
    "drugs[\"Sex\"] = labelEncoder.fit_transform(drugs[\"Sex\"])\n",
    "drugs[\"BP\"] = labelEncoder.fit_transform(drugs[\"BP\"])\n",
    "drugs[\"Cholesterol\"] = labelEncoder.fit_transform(drugs[\"Cholesterol\"])\n",
    "\n",
    "print(drugs)\n",
    "\n",
    "y = drugs[\"Drug\"]\n",
    "del drugs[\"Drug\"]\n",
    "x = drugs"
   ]
  },
  {
   "cell_type": "code",
   "execution_count": 2,
   "id": "d05a6599",
   "metadata": {},
   "outputs": [
    {
     "data": {
      "text/plain": [
       "GaussianNB()"
      ]
     },
     "execution_count": 2,
     "metadata": {},
     "output_type": "execute_result"
    }
   ],
   "source": [
    "from sklearn.naive_bayes import GaussianNB\n",
    "\n",
    "x_train, x_test, y_train, y_test = train_test_split(x,y)\n",
    "                \n",
    "model = GaussianNB()\n",
    "\n",
    "model.fit(x_train,y_train)\n"
   ]
  },
  {
   "cell_type": "code",
   "execution_count": 3,
   "id": "ff4b8e21",
   "metadata": {},
   "outputs": [
    {
     "name": "stdout",
     "output_type": "stream",
     "text": [
      "    prediction  test_data\n",
      "0            4          4\n",
      "1            2          2\n",
      "2            4          4\n",
      "3            4          4\n",
      "4            4          4\n",
      "5            4          4\n",
      "6            3          3\n",
      "7            3          3\n",
      "8            4          4\n",
      "9            3          3\n",
      "10           0          0\n",
      "11           3          3\n",
      "12           2          4\n",
      "13           4          4\n",
      "14           3          3\n",
      "15           4          4\n",
      "16           3          3\n",
      "17           4          4\n",
      "18           4          3\n",
      "19           3          3\n",
      "20           3          3\n",
      "21           4          4\n",
      "22           4          4\n",
      "23           4          4\n",
      "24           3          3\n",
      "25           3          3\n",
      "26           0          0\n",
      "27           1          0\n",
      "28           4          4\n",
      "29           1          4\n",
      "30           0          0\n",
      "31           4          4\n",
      "32           4          4\n",
      "33           4          4\n",
      "34           1          1\n",
      "35           1          1\n",
      "36           3          3\n",
      "37           3          3\n",
      "38           4          4\n",
      "39           0          0\n",
      "40           4          4\n",
      "41           4          4\n",
      "42           0          0\n",
      "43           1          4\n",
      "44           1          1\n",
      "45           2          4\n",
      "46           3          4\n",
      "47           4          4\n",
      "48           4          4\n",
      "49           2          2\n"
     ]
    }
   ],
   "source": [
    "prediction = model.predict(x_test)\n",
    "\n",
    "predictionDf = pandas.DataFrame(prediction, columns=[\"prediction\"])\n",
    "\n",
    "predictionDf = pandas.DataFrame({'prediction':prediction,'test_data':y_test.values}, columns=[\"prediction\",\"test_data\"]).transpose()\n",
    "print(predictionDf.transpose())\n"
   ]
  }
 ],
 "metadata": {
  "kernelspec": {
   "display_name": "Python 3",
   "language": "python",
   "name": "python3"
  },
  "language_info": {
   "codemirror_mode": {
    "name": "ipython",
    "version": 3
   },
   "file_extension": ".py",
   "mimetype": "text/x-python",
   "name": "python",
   "nbconvert_exporter": "python",
   "pygments_lexer": "ipython3",
   "version": "3.8.8"
  }
 },
 "nbformat": 4,
 "nbformat_minor": 5
}
