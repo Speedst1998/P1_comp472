{
 "cells": [
  {
   "cell_type": "code",
   "execution_count": 12,
   "id": "bef5119a",
   "metadata": {},
   "outputs": [
    {
     "data": {
      "text/plain": [
       "<Figure size 648x216 with 0 Axes>"
      ]
     },
     "metadata": {},
     "output_type": "display_data"
    }
   ],
   "source": [
    "import pandas\n",
    "import os\n",
    "import numpy as np\n",
    "import matplotlib.pyplot as plt\n",
    "from sklearn.model_selection import train_test_split\n",
    "from sklearn import preprocessing\n",
    "\n",
    "\n",
    "drugs = pandas.read_csv(os.getcwd()+'/drug200.csv')\n",
    "\n",
    "plt.figure(figsize=(9, 3))\n",
    "\n",
    "d = dict(drugs['Drug'].value_counts())\n",
    "\n",
    "'''plt.bar(drugs['Drug'].unique(),d.values())\n",
    "\n",
    "plt.xlabel(\"Drugs\")\n",
    "plt.ylabel(\"Count\")\n",
    "plt.title(\"Class instances\")'''\n",
    "labelEncoder = preprocessing.LabelEncoder();\n",
    "\n",
    "drugs[\"Drug\"] = labelEncoder.fit_transform(drugs[\"Drug\"])\n",
    "\n",
    "merged = pandas.merge(\n",
    "left=drugs[\"Drug\"],\n",
    "right=drugs['Age'],\n",
    "left_index=True,\n",
    "right_index=True)\n",
    "\n",
    "merged = pandas.merge(\n",
    "left=merged,\n",
    "right=pandas.get_dummies(drugs[\"Sex\"], prefix='SEX'),\n",
    "left_index=True,\n",
    "right_index=True)\n",
    "    \n",
    "merged = pandas.merge(\n",
    "left=merged,\n",
    "right=pandas.get_dummies(drugs[\"BP\"], prefix='BP'),\n",
    "left_index=True,\n",
    "right_index=True)\n",
    "    \n",
    "merged = pandas.merge(\n",
    "left=merged,\n",
    "right=pandas.get_dummies(drugs[\"Cholesterol\"], prefix='CHOL'),\n",
    "left_index=True,\n",
    "right_index=True)\n",
    "\n",
    "merged = pandas.merge(\n",
    "left=merged,\n",
    "right=drugs[\"Na_to_K\"],\n",
    "left_index=True,\n",
    "right_index=True)\n",
    "\n",
    "classes = merged[\"Drug\"]\n",
    "del merged[\"Drug\"]\n"
   ]
  },
  {
   "cell_type": "code",
   "execution_count": 13,
   "id": "d05a6599",
   "metadata": {},
   "outputs": [
    {
     "data": {
      "text/plain": [
       "GaussianNB()"
      ]
     },
     "execution_count": 13,
     "metadata": {},
     "output_type": "execute_result"
    }
   ],
   "source": [
    "from sklearn.naive_bayes import GaussianNB\n",
    "\n",
    "x_train, x_test, y_train, y_test = train_test_split(merged,classes)\n",
    "                \n",
    "model = GaussianNB()\n",
    "\n",
    "model.fit(x_train,y_train)\n"
   ]
  },
  {
   "cell_type": "code",
   "execution_count": 54,
   "id": "ff4b8e21",
   "metadata": {},
   "outputs": [
    {
     "name": "stdout",
     "output_type": "stream",
     "text": [
      "    prediction  test_data\n",
      "0            4          4\n",
      "1            2          4\n",
      "2            3          3\n",
      "3            0          0\n",
      "4            2          2\n",
      "5            4          4\n",
      "6            0          1\n",
      "7            1          1\n",
      "8            3          3\n",
      "9            2          2\n",
      "10           0          0\n",
      "11           3          4\n",
      "12           3          3\n",
      "13           0          0\n",
      "14           3          3\n",
      "15           3          3\n",
      "16           4          4\n",
      "17           4          4\n",
      "18           3          3\n",
      "19           0          4\n",
      "20           0          4\n",
      "21           3          3\n",
      "22           0          4\n",
      "23           2          2\n",
      "24           4          4\n",
      "25           3          3\n",
      "26           3          3\n",
      "27           2          2\n",
      "28           0          1\n",
      "29           2          4\n",
      "30           2          4\n",
      "31           4          4\n",
      "32           1          1\n",
      "33           4          4\n",
      "34           1          1\n",
      "35           0          4\n",
      "36           4          4\n",
      "37           4          4\n",
      "38           3          3\n",
      "39           4          4\n",
      "40           4          4\n",
      "41           3          3\n",
      "42           4          4\n",
      "43           1          1\n",
      "44           3          3\n",
      "45           3          4\n",
      "46           1          1\n",
      "47           0          4\n",
      "48           0          4\n",
      "49           3          3\n",
      "[4 2 3 0 2 4 0 1 3 2 0 3 3 0 3 3 4 4 3 0 0 3 0 2 4 3 3 2 0 2 2 4 1 4 1 0 4\n",
      " 4 3 4 4 3 4 1 3 3 1 0 0 3]\n",
      "[4 4 3 0 2 4 1 1 3 2 0 4 3 0 3 3 4 4 3 4 4 3 4 2 4 3 3 2 1 4 4 4 1 4 1 4 4\n",
      " 4 3 4 4 3 4 1 3 4 1 4 4 3]\n"
     ]
    }
   ],
   "source": [
    "prediction = model.predict(x_test)\n",
    "\n",
    "predictionDf = pandas.DataFrame(prediction, columns=[\"prediction\"])\n",
    "\n",
    "predictionDf = pandas.DataFrame({'prediction':prediction,'test_data':y_test.values}, columns=[\"prediction\",\"test_data\"]).transpose()\n",
    "print(predictionDf.transpose())\n"
   ]
  }
 ],
 "metadata": {
  "kernelspec": {
   "display_name": "Python 3",
   "language": "python",
   "name": "python3"
  },
  "language_info": {
   "codemirror_mode": {
    "name": "ipython",
    "version": 3
   },
   "file_extension": ".py",
   "mimetype": "text/x-python",
   "name": "python",
   "nbconvert_exporter": "python",
   "pygments_lexer": "ipython3",
   "version": "3.8.8"
  }
 },
 "nbformat": 4,
 "nbformat_minor": 5
}
