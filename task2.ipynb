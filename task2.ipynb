{
 "cells": [
  {
   "cell_type": "code",
   "execution_count": 59,
   "id": "bef5119a",
   "metadata": {},
   "outputs": [
    {
     "name": "stdout",
     "output_type": "stream",
     "text": [
      "50\n"
     ]
    },
    {
     "data": {
      "text/plain": [
       "<Figure size 648x216 with 0 Axes>"
      ]
     },
     "metadata": {},
     "output_type": "display_data"
    }
   ],
   "source": [
    "import pandas\n",
    "import os\n",
    "import numpy as np\n",
    "import matplotlib.pyplot as plt\n",
    "from sklearn.model_selection import train_test_split\n",
    "\n",
    "\n",
    "drugs = pandas.read_csv(os.getcwd()+'/drug200.csv')\n",
    "\n",
    "plt.figure(figsize=(9, 3))\n",
    "\n",
    "d = dict(drugs['Drug'].value_counts())\n",
    "\n",
    "'''plt.bar(drugs['Drug'].unique(),d.values())\n",
    "\n",
    "plt.xlabel(\"Drugs\")\n",
    "plt.ylabel(\"Count\")\n",
    "plt.title(\"Class instances\")'''\n",
    "\n",
    "\n",
    "merged = pandas.merge(\n",
    "left=drugs['Drug'],\n",
    "right=drugs['Age'],\n",
    "left_index=True,\n",
    "right_index=True)\n",
    "\n",
    "merged = pandas.merge(\n",
    "left=merged,\n",
    "right=pandas.get_dummies(drugs[\"Sex\"], prefix='SEX'),\n",
    "left_index=True,\n",
    "right_index=True)\n",
    "    \n",
    "merged = pandas.merge(\n",
    "left=merged,\n",
    "right=pandas.get_dummies(drugs[\"BP\"], prefix='BP'),\n",
    "left_index=True,\n",
    "right_index=True)\n",
    "    \n",
    "merged = pandas.merge(\n",
    "left=merged,\n",
    "right=pandas.get_dummies(drugs[\"Cholesterol\"], prefix='CHOL'),\n",
    "left_index=True,\n",
    "right_index=True)\n",
    "\n",
    "merged = pandas.merge(\n",
    "left=merged,\n",
    "right=drugs[\"Na_to_K\"],\n",
    "left_index=True,\n",
    "right_index=True)\n",
    "\n",
    "print(len(train_test_split(merged)[1]))\n",
    "                \n"
   ]
  },
  {
   "cell_type": "code",
   "execution_count": null,
   "id": "d05a6599",
   "metadata": {},
   "outputs": [],
   "source": [
    "from sklearn.naive_bayes import GaussianNB\n"
   ]
  }
 ],
 "metadata": {
  "kernelspec": {
   "display_name": "Python 3",
   "language": "python",
   "name": "python3"
  },
  "language_info": {
   "codemirror_mode": {
    "name": "ipython",
    "version": 3
   },
   "file_extension": ".py",
   "mimetype": "text/x-python",
   "name": "python",
   "nbconvert_exporter": "python",
   "pygments_lexer": "ipython3",
   "version": "3.8.8"
  }
 },
 "nbformat": 4,
 "nbformat_minor": 5
}
